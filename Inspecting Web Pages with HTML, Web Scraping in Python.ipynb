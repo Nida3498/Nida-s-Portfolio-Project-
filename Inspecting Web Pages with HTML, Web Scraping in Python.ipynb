{
 "cells": [
  {
   "cell_type": "markdown",
   "id": "1915663e",
   "metadata": {},
   "source": [
    "# HTML and Inspecting a Web Page"
   ]
  },
  {
   "cell_type": "code",
   "execution_count": null,
   "id": "96bb54c2",
   "metadata": {},
   "outputs": [],
   "source": [
    "#                  <html>\n",
    "\n",
    "#                  <head>\n",
    "#                       <title>My First Web Page</title>\n",
    "#                  </head>\n",
    "\n",
    "#                  <body>\n",
    "#                       <h1>My First Web Page</h1>\n",
    "#                       <p><b>Hello World Wide Web!</b></p>\n",
    "#                       <p><i>Hello World Wide Web!</i></p>\n",
    "#                       <p><u>Hello World Wide Web!</u></p>\n",
    "#                       <p>This is my first web page.</p>\n",
    "#                       <p>HTML tags can give <b><i>various</i></b>\n",
    "#                       <u>looks and format</u> to the content of this web page.</p>\n",
    "#                  </body>\n",
    "\n",
    "#                  </html>\n",
    "# https://www.scrapethissite.com/pages/forms/\n"
   ]
  },
  {
   "cell_type": "code",
   "execution_count": 2,
   "id": "78c13587",
   "metadata": {},
   "outputs": [],
   "source": [
    "# Go to the webpage, right-click and select inspect. You can view the entire html of the webpage. "
   ]
  },
  {
   "cell_type": "code",
   "execution_count": null,
   "id": "d6e6339a",
   "metadata": {},
   "outputs": [],
   "source": []
  }
 ],
 "metadata": {
  "kernelspec": {
   "display_name": "Python 3 (ipykernel)",
   "language": "python",
   "name": "python3"
  },
  "language_info": {
   "codemirror_mode": {
    "name": "ipython",
    "version": 3
   },
   "file_extension": ".py",
   "mimetype": "text/x-python",
   "name": "python",
   "nbconvert_exporter": "python",
   "pygments_lexer": "ipython3",
   "version": "3.11.5"
  }
 },
 "nbformat": 4,
 "nbformat_minor": 5
}
