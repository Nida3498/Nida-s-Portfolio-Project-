{
 "cells": [
  {
   "cell_type": "markdown",
   "id": "880f706a",
   "metadata": {},
   "source": [
    "# Automatic File Sorter in File Explorer"
   ]
  },
  {
   "cell_type": "code",
   "execution_count": 1,
   "id": "d896338d",
   "metadata": {},
   "outputs": [],
   "source": [
    "import os, shutil"
   ]
  },
  {
   "cell_type": "code",
   "execution_count": 7,
   "id": "937e95b0",
   "metadata": {},
   "outputs": [],
   "source": [
    "path = r\"C:/Users/mansa/OneDrive/Documents/Exercises/Python Tutorials/\""
   ]
  },
  {
   "cell_type": "code",
   "execution_count": 3,
   "id": "488e8f03",
   "metadata": {},
   "outputs": [],
   "source": [
    "# We need to create a folder "
   ]
  },
  {
   "cell_type": "code",
   "execution_count": null,
   "id": "c6804790",
   "metadata": {},
   "outputs": [],
   "source": [
    "# Next, we need to check each file and place it in the correct folder. "
   ]
  },
  {
   "cell_type": "code",
   "execution_count": 8,
   "id": "f16491ba",
   "metadata": {},
   "outputs": [
    {
     "data": {
      "text/plain": [
       "['CovidDeaths.csv', 'Fake tutorial.txt', 'Picture of dog.png']"
      ]
     },
     "execution_count": 8,
     "metadata": {},
     "output_type": "execute_result"
    }
   ],
   "source": [
    "os.listdir(path)"
   ]
  },
  {
   "cell_type": "code",
   "execution_count": 5,
   "id": "7d1d57cc",
   "metadata": {},
   "outputs": [
    {
     "data": {
      "text/plain": [
       "False"
      ]
     },
     "execution_count": 5,
     "metadata": {},
     "output_type": "execute_result"
    }
   ],
   "source": [
    "os.path.exists(path + 'csv files')"
   ]
  },
  {
   "cell_type": "code",
   "execution_count": 9,
   "id": "44b0fe4e",
   "metadata": {},
   "outputs": [
    {
     "name": "stdout",
     "output_type": "stream",
     "text": [
      "C:/Users/mansa/OneDrive/Documents/Exercises/Python Tutorials/csv files\n",
      "C:/Users/mansa/OneDrive/Documents/Exercises/Python Tutorials/image files\n",
      "C:/Users/mansa/OneDrive/Documents/Exercises/Python Tutorials/text files\n"
     ]
    }
   ],
   "source": [
    "folder_names = ['csv files', 'image files', 'text files']\n",
    "\n",
    "for loop in range(0,3):\n",
    "    if not os.path.exists(path + folder_names[loop]):\n",
    "        print(path + folder_names[loop])\n",
    "        os.makedirs(path + folder_names[loop])"
   ]
  },
  {
   "cell_type": "code",
   "execution_count": null,
   "id": "07cdc9dd",
   "metadata": {},
   "outputs": [],
   "source": [
    "# Now that we have created our folders in the correct area, we need to place our files in the correct folders. "
   ]
  },
  {
   "cell_type": "code",
   "execution_count": 10,
   "id": "e0bb09b7",
   "metadata": {},
   "outputs": [],
   "source": [
    "file_name = os.listdir(path)"
   ]
  },
  {
   "cell_type": "code",
   "execution_count": 12,
   "id": "b7c9a10f",
   "metadata": {},
   "outputs": [],
   "source": [
    "for file in file_name:\n",
    "    if \".csv\" in file and not os.path.exists(path + \"csv files/\" + file):\n",
    "        shutil.move(path + file, path + \"csv files/\" + file)\n",
    "    elif \".png\" in file and not os.path.exists(path + \"image files/\" + file):\n",
    "        shutil.move(path + file, path + \"image files/\" + file)\n",
    "    elif \".txt\" in file and not os.path.exists(path + \"text files/\" + file):\n",
    "        shutil.move(path + file, path + \"text files/\" + file)\n",
    "   "
   ]
  },
  {
   "cell_type": "code",
   "execution_count": null,
   "id": "f6d7f356",
   "metadata": {},
   "outputs": [],
   "source": []
  },
  {
   "cell_type": "code",
   "execution_count": null,
   "id": "47e241bc",
   "metadata": {},
   "outputs": [],
   "source": []
  },
  {
   "cell_type": "markdown",
   "id": "b671678a",
   "metadata": {},
   "source": [
    "# Running the program again to see if it works correctly"
   ]
  },
  {
   "cell_type": "code",
   "execution_count": 14,
   "id": "b7a695c6",
   "metadata": {},
   "outputs": [],
   "source": [
    "import os, shutil"
   ]
  },
  {
   "cell_type": "code",
   "execution_count": 15,
   "id": "08d8cc1f",
   "metadata": {},
   "outputs": [],
   "source": [
    "path = r\"C:/Users/mansa/OneDrive/Documents/Exercises/Python Tutorials/\""
   ]
  },
  {
   "cell_type": "code",
   "execution_count": 16,
   "id": "d2114ceb",
   "metadata": {},
   "outputs": [],
   "source": [
    "file_name = os.listdir(path)"
   ]
  },
  {
   "cell_type": "code",
   "execution_count": 17,
   "id": "7879265a",
   "metadata": {},
   "outputs": [],
   "source": [
    "folder_names = ['csv files', 'image files', 'text files']\n",
    "\n",
    "for loop in range(0,3):\n",
    "    if not os.path.exists(path + folder_names[loop]):\n",
    "        #print(path + folder_names[loop])\n",
    "        os.makedirs(path + folder_names[loop])\n",
    "\n",
    "for file in file_name:\n",
    "    if \".csv\" in file and not os.path.exists(path + \"csv files/\" + file):\n",
    "        shutil.move(path + file, path + \"csv files/\" + file)\n",
    "    elif \".png\" in file and not os.path.exists(path + \"image files/\" + file):\n",
    "        shutil.move(path + file, path + \"image files/\" + file)\n",
    "    elif \".txt\" in file and not os.path.exists(path + \"text files/\" + file):\n",
    "        shutil.move(path + file, path + \"text files/\" + file)"
   ]
  },
  {
   "cell_type": "markdown",
   "id": "21255bd3",
   "metadata": {},
   "source": [
    "# Success"
   ]
  }
 ],
 "metadata": {
  "kernelspec": {
   "display_name": "Python 3 (ipykernel)",
   "language": "python",
   "name": "python3"
  },
  "language_info": {
   "codemirror_mode": {
    "name": "ipython",
    "version": 3
   },
   "file_extension": ".py",
   "mimetype": "text/x-python",
   "name": "python",
   "nbconvert_exporter": "python",
   "pygments_lexer": "ipython3",
   "version": "3.11.5"
  }
 },
 "nbformat": 4,
 "nbformat_minor": 5
}
