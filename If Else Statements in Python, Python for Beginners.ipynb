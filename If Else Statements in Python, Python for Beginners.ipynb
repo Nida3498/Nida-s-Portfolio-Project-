{
 "cells": [
  {
   "cell_type": "markdown",
   "id": "d1d7ce8f",
   "metadata": {},
   "source": [
    "# If - Elif - Else Statements"
   ]
  },
  {
   "cell_type": "code",
   "execution_count": 1,
   "id": "be5e2051",
   "metadata": {},
   "outputs": [
    {
     "name": "stdout",
     "output_type": "stream",
     "text": [
      "It Worked!\n"
     ]
    }
   ],
   "source": [
    "if 25 > 10:\n",
    "    print('It Worked!')"
   ]
  },
  {
   "cell_type": "code",
   "execution_count": 4,
   "id": "8831118a",
   "metadata": {},
   "outputs": [
    {
     "name": "stdout",
     "output_type": "stream",
     "text": [
      "It did not work...\n"
     ]
    }
   ],
   "source": [
    "if 25 < 10:\n",
    "    print('It Worked!')\n",
    "else: \n",
    "    print('It did not work...')"
   ]
  },
  {
   "cell_type": "code",
   "execution_count": 5,
   "id": "c476d3d0",
   "metadata": {},
   "outputs": [
    {
     "name": "stdout",
     "output_type": "stream",
     "text": [
      "It Worked!\n"
     ]
    }
   ],
   "source": [
    "if 25 > 10:\n",
    "    print('It Worked!')\n",
    "else: \n",
    "    print('It did not work...')"
   ]
  },
  {
   "cell_type": "code",
   "execution_count": 8,
   "id": "9460df92",
   "metadata": {},
   "outputs": [
    {
     "name": "stdout",
     "output_type": "stream",
     "text": [
      "elif 3 Worked!\n"
     ]
    }
   ],
   "source": [
    "if 25 < 10:\n",
    "    print('It Worked!')\n",
    "elif 25 < 20:\n",
    "    print('elif Worked!')\n",
    "elif 25 < 21:\n",
    "    print('elif 2 Worked!')\n",
    "elif 25 < 40:\n",
    "    print('elif 3 Worked!')\n",
    "elif 25 < 50:\n",
    "    print('elif 4 Worked!')\n",
    "else: \n",
    "    print('It did not work...')"
   ]
  },
  {
   "cell_type": "code",
   "execution_count": 9,
   "id": "b0ceeed4",
   "metadata": {},
   "outputs": [
    {
     "name": "stdout",
     "output_type": "stream",
     "text": [
      "It Worked!\n"
     ]
    }
   ],
   "source": [
    "if 25 < 10 or (1 < 3) :\n",
    "    print('It Worked!')\n",
    "elif 25 < 20:\n",
    "    print('elif Worked!')\n",
    "elif 25 < 21:\n",
    "    print('elif 2 Worked!')\n",
    "elif 25 < 40:\n",
    "    print('elif 3 Worked!')\n",
    "elif 25 < 50:\n",
    "    print('elif 4 Worked!')\n",
    "else: \n",
    "    print('It did not work...')"
   ]
  },
  {
   "cell_type": "code",
   "execution_count": 10,
   "id": "676cb969",
   "metadata": {},
   "outputs": [
    {
     "name": "stdout",
     "output_type": "stream",
     "text": [
      "It did not work...\n"
     ]
    }
   ],
   "source": [
    "print('It worked!') if 10 > 30 else print ('It did not work...')"
   ]
  },
  {
   "cell_type": "code",
   "execution_count": 12,
   "id": "55715f9a",
   "metadata": {},
   "outputs": [
    {
     "name": "stdout",
     "output_type": "stream",
     "text": [
      "It worked!\n",
      "This nested if statement worked!\n"
     ]
    }
   ],
   "source": [
    "# nest if statement\n",
    "\n",
    "if 25 < 10 or (1 < 3) :\n",
    "    print('It worked!')\n",
    "    if 10 > 5:\n",
    "        print('This nested if statement worked!')\n",
    "elif 25 < 20:\n",
    "    print('elif Worked!')\n",
    "elif 25 < 21:\n",
    "    print('elif 2 Worked!')\n",
    "elif 25 < 40:\n",
    "    print('elif 3 Worked!')\n",
    "elif 25 < 50:\n",
    "    print('elif 4 Worked!')\n",
    "else: \n",
    "    print('It did not work...')"
   ]
  },
  {
   "cell_type": "code",
   "execution_count": null,
   "id": "c66f028c",
   "metadata": {},
   "outputs": [],
   "source": []
  },
  {
   "cell_type": "code",
   "execution_count": null,
   "id": "b3eab75a",
   "metadata": {},
   "outputs": [],
   "source": []
  },
  {
   "cell_type": "code",
   "execution_count": null,
   "id": "16063af2",
   "metadata": {},
   "outputs": [],
   "source": []
  },
  {
   "cell_type": "code",
   "execution_count": null,
   "id": "ed214def",
   "metadata": {},
   "outputs": [],
   "source": []
  },
  {
   "cell_type": "code",
   "execution_count": null,
   "id": "3f76687b",
   "metadata": {},
   "outputs": [],
   "source": []
  }
 ],
 "metadata": {
  "kernelspec": {
   "display_name": "Python 3 (ipykernel)",
   "language": "python",
   "name": "python3"
  },
  "language_info": {
   "codemirror_mode": {
    "name": "ipython",
    "version": 3
   },
   "file_extension": ".py",
   "mimetype": "text/x-python",
   "name": "python",
   "nbconvert_exporter": "python",
   "pygments_lexer": "ipython3",
   "version": "3.11.5"
  }
 },
 "nbformat": 4,
 "nbformat_minor": 5
}
